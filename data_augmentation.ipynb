{
 "cells": [
  {
   "cell_type": "markdown",
   "metadata": {},
   "source": [
    "# Import Libaries"
   ]
  },
  {
   "cell_type": "code",
   "execution_count": null,
   "metadata": {},
   "outputs": [],
   "source": [
    "import os\n",
    "from glob import glob\n",
    "from PIL import Image\n",
    "from tensorflow.keras.preprocessing.image import ImageDataGenerator\n",
    "import numpy as np"
   ]
  },
  {
   "cell_type": "code",
   "execution_count": null,
   "metadata": {},
   "outputs": [],
   "source": [
    "# Initialize data generator\n",
    "datagen = ImageDataGenerator(\n",
    "    rotation_range=15,\n",
    "    width_shift_range=0.05,\n",
    "    height_shift_range=0.05,\n",
    "    zoom_range=0.05,\n",
    "    horizontal_flip=False,\n",
    "    brightness_range=[0.8, 1.2],\n",
    "    fill_mode='nearest'\n",
    ")\n",
    "\n",
    "# Paths to data\n",
    "input_dir = \"dataset\"\n",
    "output_dir = \"augmented_dataset\"\n",
    "\n",
    "# Augment images in each class directory\n",
    "for class_dir in os.listdir(input_dir):\n",
    "    class_path = os.path.join(input_dir, class_dir)\n",
    "    save_path = os.path.join(output_dir, class_dir)\n",
    "    os.makedirs(save_path, exist_ok=True)\n",
    "\n",
    "    for image_file in glob(os.path.join(class_path, '*.jpg')):\n",
    "        image = np.array(Image.open(image_file))\n",
    "        image = image.reshape((1,) + image.shape)  # Add batch dimension\n",
    "\n",
    "        # Generate augmented images\n",
    "        for i, batch in enumerate(datagen.flow(image, batch_size=1, save_to_dir=save_path, save_prefix='aug', save_format='jpg')):\n",
    "            if i >= 5:  \n",
    "                break"
   ]
  }
 ],
 "metadata": {
  "kernelspec": {
   "display_name": "myvenv",
   "language": "python",
   "name": "python3"
  },
  "language_info": {
   "name": "python",
   "version": "3.10.6"
  }
 },
 "nbformat": 4,
 "nbformat_minor": 2
}
